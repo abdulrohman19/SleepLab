{
  "cells": [
    {
      "cell_type": "markdown",
      "source": [
        "# **SleepLab: Your 24/7 Sleep Companion**\n",
        "\n",
        "---\n",
        "\n",
        "### *Machine Learning Model - Neural Network*"
      ],
      "metadata": {
        "id": "GWSftHihrjvU"
      }
    },
    {
      "cell_type": "markdown",
      "source": [
        "## **Import Libraries**"
      ],
      "metadata": {
        "id": "1xGYYO3BsC2p"
      }
    },
    {
      "cell_type": "code",
      "execution_count": 129,
      "metadata": {
        "id": "hH4Ok-OCpQA4"
      },
      "outputs": [],
      "source": [
        "import pandas as pd\n",
        "import numpy as np\n",
        "import random\n",
        "import matplotlib.pyplot as plt\n",
        "import sklearn\n",
        "import keras\n",
        "import tensorflow as tf\n",
        "\n",
        "from keras.models import Sequential\n",
        "from keras.layers import Dense\n",
        "from keras.callbacks import EarlyStopping\n",
        "from keras.callbacks import ModelCheckpoint\n",
        "from keras.models import load_model\n",
        "\n",
        "from numpy import ndarray\n",
        "from sklearn.metrics import confusion_matrix, roc_curve, auc, roc_auc_score, accuracy_score, classification_report\n",
        "from sklearn.preprocessing import StandardScaler\n",
        "from sklearn.model_selection import train_test_split\n",
        "from keras.models import model_from_json\n",
        "import json"
      ]
    },
    {
      "cell_type": "markdown",
      "source": [
        "## **Import Dataset**"
      ],
      "metadata": {
        "id": "_B8yLmqGs7C7"
      }
    },
    {
      "cell_type": "code",
      "execution_count": 130,
      "metadata": {
        "id": "n2YmXCWKh7qZ",
        "colab": {
          "base_uri": "https://localhost:8080/"
        },
        "outputId": "f3df7e6e-4e98-4428-c98d-30b6f2c1a6b0"
      },
      "outputs": [
        {
          "output_type": "stream",
          "name": "stdout",
          "text": [
            "     Sleep Duration  Physical Activity Level  BMI Category  Sleep Disorder\n",
            "0               6.1                       42             2               0\n",
            "1               6.2                       60             1               0\n",
            "2               6.2                       60             1               0\n",
            "3               5.9                       30             2               1\n",
            "4               5.9                       30             2               1\n",
            "..              ...                      ...           ...             ...\n",
            "369             8.1                       75             2               1\n",
            "370             8.0                       75             2               1\n",
            "371             8.1                       75             2               1\n",
            "372             8.1                       75             2               1\n",
            "373             8.1                       75             2               1\n",
            "\n",
            "[374 rows x 4 columns]\n"
          ]
        }
      ],
      "source": [
        "df = pd.read_csv('https://raw.githubusercontent.com/abdulrohman19/SleepLab/machine-learning/Data/dataset.csv')\n",
        "print(df)"
      ]
    },
    {
      "cell_type": "markdown",
      "source": [
        "## **Data Preprocessing**"
      ],
      "metadata": {
        "id": "JImqDh4FtWs-"
      }
    },
    {
      "cell_type": "code",
      "source": [
        "#Extract the target variable\n",
        "dftarget = df['Sleep Disorder']\n",
        "\n",
        "#Convert to NumPy array\n",
        "target = dftarget.to_numpy()\n",
        "\n",
        "#Remove the column from the DataFrame\n",
        "df = df.drop(columns=['Sleep Disorder'])\n",
        "\n",
        "#Convert the modified DataFrame to a NumPy array, representing the features\n",
        "data = df.to_numpy()"
      ],
      "metadata": {
        "id": "tvMtaq-wtEPd"
      },
      "execution_count": 131,
      "outputs": []
    },
    {
      "cell_type": "markdown",
      "source": [
        "**Split dataset into training and testing**"
      ],
      "metadata": {
        "id": "H3C1t5ulvKe4"
      }
    },
    {
      "cell_type": "code",
      "execution_count": 132,
      "metadata": {
        "colab": {
          "base_uri": "https://localhost:8080/"
        },
        "id": "_42dxj43lmHm",
        "outputId": "6778be96-f55e-4d51-d865-7aa16ca6935a"
      },
      "outputs": [
        {
          "output_type": "stream",
          "name": "stdout",
          "text": [
            "(299, 3) (75, 3) (299,) (75,)\n"
          ]
        }
      ],
      "source": [
        "#Split the dataset into training (80%) and testing (20%) sets\n",
        "X_train, X_test, y_train, y_test = train_test_split(data, target, test_size=0.2)\n",
        "\n",
        "print(X_train.shape, X_test.shape, y_train.shape, y_test.shape)"
      ]
    },
    {
      "cell_type": "markdown",
      "source": [
        "**Normalization**"
      ],
      "metadata": {
        "id": "q_Lin4dv2VC5"
      }
    },
    {
      "cell_type": "code",
      "execution_count": 133,
      "metadata": {
        "id": "U5zceb7EjZiM",
        "colab": {
          "base_uri": "https://localhost:8080/"
        },
        "outputId": "bf7d0275-d3a5-4484-aaed-7b998dfd3de8"
      },
      "outputs": [
        {
          "output_type": "stream",
          "name": "stdout",
          "text": [
            "[[-1.29888693 -0.82541823  1.16922564]\n",
            " [-1.17303623  0.03984423 -0.85526691]\n",
            " [-1.17303623  0.03984423 -0.85526691]\n",
            " ...\n",
            " [ 1.21812712  0.76089629  1.16922564]\n",
            " [ 1.21812712  0.76089629  1.16922564]\n",
            " [ 1.21812712  0.76089629  1.16922564]]\n"
          ]
        }
      ],
      "source": [
        "#Creating a StandardScaler object\n",
        "s = StandardScaler()\n",
        "\n",
        "#Normalizing the features in the 'data' array\n",
        "data = s.fit_transform(data)\n",
        "\n",
        "print(data)"
      ]
    },
    {
      "cell_type": "markdown",
      "source": [
        "## **Create and Train the Model**"
      ],
      "metadata": {
        "id": "FmGoeh5i27YF"
      }
    },
    {
      "cell_type": "code",
      "source": [
        "# Define the model\n",
        "model = tf.keras.models.Sequential([\n",
        "    tf.keras.layers.Flatten(),\n",
        "    tf.keras.layers.Dense(512, activation=tf.nn.relu),\n",
        "    tf.keras.layers.Dense(3, activation=tf.nn.softmax)\n",
        "    ])\n",
        "\n",
        "# Compile the model\n",
        "model.compile(optimizer='adam',\n",
        "              loss='sparse_categorical_crossentropy',\n",
        "              metrics=['accuracy'])\n",
        "\n",
        "# Set up EarlyStopping callback\n",
        "early_stopping = EarlyStopping(monitor='val_loss', patience=5, restore_best_weights=True)\n",
        "\n",
        "# Fit the model with validation data and EarlyStopping callback\n",
        "history = model.fit(X_train, y_train, epochs=100, validation_data=(X_test, y_test), callbacks=[early_stopping])"
      ],
      "metadata": {
        "colab": {
          "base_uri": "https://localhost:8080/"
        },
        "id": "gloio-YzofyN",
        "outputId": "8d1d6f21-8c10-49eb-dcaf-4579f88acd03"
      },
      "execution_count": 134,
      "outputs": [
        {
          "output_type": "stream",
          "name": "stdout",
          "text": [
            "Epoch 1/100\n",
            "10/10 [==============================] - 1s 23ms/step - loss: 1.0822 - accuracy: 0.5184 - val_loss: 0.8345 - val_accuracy: 0.6267\n",
            "Epoch 2/100\n",
            "10/10 [==============================] - 0s 6ms/step - loss: 0.9295 - accuracy: 0.5753 - val_loss: 0.7927 - val_accuracy: 0.6267\n",
            "Epoch 3/100\n",
            "10/10 [==============================] - 0s 8ms/step - loss: 0.8775 - accuracy: 0.6087 - val_loss: 0.7910 - val_accuracy: 0.8267\n",
            "Epoch 4/100\n",
            "10/10 [==============================] - 0s 9ms/step - loss: 0.8288 - accuracy: 0.6187 - val_loss: 0.7307 - val_accuracy: 0.6933\n",
            "Epoch 5/100\n",
            "10/10 [==============================] - 0s 6ms/step - loss: 0.8123 - accuracy: 0.6355 - val_loss: 0.6820 - val_accuracy: 0.7067\n",
            "Epoch 6/100\n",
            "10/10 [==============================] - 0s 7ms/step - loss: 0.7866 - accuracy: 0.6990 - val_loss: 0.6935 - val_accuracy: 0.7067\n",
            "Epoch 7/100\n",
            "10/10 [==============================] - 0s 7ms/step - loss: 0.7655 - accuracy: 0.6589 - val_loss: 0.6889 - val_accuracy: 0.8267\n",
            "Epoch 8/100\n",
            "10/10 [==============================] - 0s 5ms/step - loss: 0.7400 - accuracy: 0.6789 - val_loss: 0.7261 - val_accuracy: 0.8533\n",
            "Epoch 9/100\n",
            "10/10 [==============================] - 0s 8ms/step - loss: 0.7712 - accuracy: 0.6957 - val_loss: 0.6283 - val_accuracy: 0.8267\n",
            "Epoch 10/100\n",
            "10/10 [==============================] - 0s 7ms/step - loss: 0.7500 - accuracy: 0.7291 - val_loss: 0.6330 - val_accuracy: 0.7067\n",
            "Epoch 11/100\n",
            "10/10 [==============================] - 0s 8ms/step - loss: 0.7168 - accuracy: 0.7191 - val_loss: 0.5900 - val_accuracy: 0.8267\n",
            "Epoch 12/100\n",
            "10/10 [==============================] - 0s 8ms/step - loss: 0.6970 - accuracy: 0.7090 - val_loss: 0.5768 - val_accuracy: 0.8400\n",
            "Epoch 13/100\n",
            "10/10 [==============================] - 0s 6ms/step - loss: 0.6871 - accuracy: 0.7559 - val_loss: 0.5411 - val_accuracy: 0.8400\n",
            "Epoch 14/100\n",
            "10/10 [==============================] - 0s 6ms/step - loss: 0.6830 - accuracy: 0.7492 - val_loss: 0.5463 - val_accuracy: 0.8267\n",
            "Epoch 15/100\n",
            "10/10 [==============================] - 0s 8ms/step - loss: 0.6388 - accuracy: 0.7993 - val_loss: 0.5824 - val_accuracy: 0.8667\n",
            "Epoch 16/100\n",
            "10/10 [==============================] - 0s 8ms/step - loss: 0.6522 - accuracy: 0.7926 - val_loss: 0.6123 - val_accuracy: 0.8667\n",
            "Epoch 17/100\n",
            "10/10 [==============================] - 0s 8ms/step - loss: 0.6486 - accuracy: 0.7960 - val_loss: 0.5182 - val_accuracy: 0.8267\n",
            "Epoch 18/100\n",
            "10/10 [==============================] - 0s 6ms/step - loss: 0.6437 - accuracy: 0.8027 - val_loss: 0.5094 - val_accuracy: 0.8267\n",
            "Epoch 19/100\n",
            "10/10 [==============================] - 0s 6ms/step - loss: 0.6164 - accuracy: 0.8060 - val_loss: 0.5766 - val_accuracy: 0.9067\n",
            "Epoch 20/100\n",
            "10/10 [==============================] - 0s 6ms/step - loss: 0.6427 - accuracy: 0.8261 - val_loss: 0.5198 - val_accuracy: 0.9200\n",
            "Epoch 21/100\n",
            "10/10 [==============================] - 0s 8ms/step - loss: 0.6142 - accuracy: 0.8127 - val_loss: 0.4723 - val_accuracy: 0.9200\n",
            "Epoch 22/100\n",
            "10/10 [==============================] - 0s 8ms/step - loss: 0.6137 - accuracy: 0.8060 - val_loss: 0.4662 - val_accuracy: 0.8400\n",
            "Epoch 23/100\n",
            "10/10 [==============================] - 0s 8ms/step - loss: 0.5902 - accuracy: 0.8294 - val_loss: 0.4643 - val_accuracy: 0.8267\n",
            "Epoch 24/100\n",
            "10/10 [==============================] - 0s 8ms/step - loss: 0.5781 - accuracy: 0.8294 - val_loss: 0.4671 - val_accuracy: 0.9200\n",
            "Epoch 25/100\n",
            "10/10 [==============================] - 0s 6ms/step - loss: 0.5844 - accuracy: 0.8060 - val_loss: 0.4659 - val_accuracy: 0.9200\n",
            "Epoch 26/100\n",
            "10/10 [==============================] - 0s 6ms/step - loss: 0.5899 - accuracy: 0.8060 - val_loss: 0.4440 - val_accuracy: 0.8267\n",
            "Epoch 27/100\n",
            "10/10 [==============================] - 0s 5ms/step - loss: 0.6302 - accuracy: 0.7458 - val_loss: 0.5940 - val_accuracy: 0.8267\n",
            "Epoch 28/100\n",
            "10/10 [==============================] - 0s 6ms/step - loss: 0.6241 - accuracy: 0.7826 - val_loss: 0.4858 - val_accuracy: 0.7600\n",
            "Epoch 29/100\n",
            "10/10 [==============================] - 0s 6ms/step - loss: 0.6410 - accuracy: 0.7759 - val_loss: 0.4393 - val_accuracy: 0.8267\n",
            "Epoch 30/100\n",
            "10/10 [==============================] - 0s 7ms/step - loss: 0.6349 - accuracy: 0.7458 - val_loss: 0.5307 - val_accuracy: 0.8267\n",
            "Epoch 31/100\n",
            "10/10 [==============================] - 0s 7ms/step - loss: 0.5699 - accuracy: 0.8227 - val_loss: 0.4348 - val_accuracy: 0.9200\n",
            "Epoch 32/100\n",
            "10/10 [==============================] - 0s 6ms/step - loss: 0.5694 - accuracy: 0.8294 - val_loss: 0.4418 - val_accuracy: 0.9200\n",
            "Epoch 33/100\n",
            "10/10 [==============================] - 0s 7ms/step - loss: 0.5868 - accuracy: 0.8227 - val_loss: 0.5041 - val_accuracy: 0.8400\n",
            "Epoch 34/100\n",
            "10/10 [==============================] - 0s 6ms/step - loss: 0.5955 - accuracy: 0.8194 - val_loss: 0.5220 - val_accuracy: 0.9200\n",
            "Epoch 35/100\n",
            "10/10 [==============================] - 0s 6ms/step - loss: 0.5992 - accuracy: 0.8060 - val_loss: 0.5741 - val_accuracy: 0.8533\n",
            "Epoch 36/100\n",
            "10/10 [==============================] - 0s 6ms/step - loss: 0.6315 - accuracy: 0.7860 - val_loss: 0.4628 - val_accuracy: 0.9200\n"
          ]
        }
      ]
    },
    {
      "cell_type": "markdown",
      "source": [
        "**Review the architecture**"
      ],
      "metadata": {
        "id": "_rC-1-sF5KIc"
      }
    },
    {
      "cell_type": "code",
      "source": [
        "model.summary()"
      ],
      "metadata": {
        "colab": {
          "base_uri": "https://localhost:8080/"
        },
        "id": "8b3r2Vxx5SL6",
        "outputId": "c027cd16-5e19-4637-a902-07eaeadb057a"
      },
      "execution_count": 135,
      "outputs": [
        {
          "output_type": "stream",
          "name": "stdout",
          "text": [
            "Model: \"sequential_32\"\n",
            "_________________________________________________________________\n",
            " Layer (type)                Output Shape              Param #   \n",
            "=================================================================\n",
            " flatten_31 (Flatten)        (None, 3)                 0         \n",
            "                                                                 \n",
            " dense_67 (Dense)            (None, 512)               2048      \n",
            "                                                                 \n",
            " dense_68 (Dense)            (None, 3)                 1539      \n",
            "                                                                 \n",
            "=================================================================\n",
            "Total params: 3587 (14.01 KB)\n",
            "Trainable params: 3587 (14.01 KB)\n",
            "Non-trainable params: 0 (0.00 Byte)\n",
            "_________________________________________________________________\n"
          ]
        }
      ]
    },
    {
      "cell_type": "markdown",
      "source": [
        "## **Model Evaluation**"
      ],
      "metadata": {
        "id": "DVe5lewp5fXu"
      }
    },
    {
      "cell_type": "code",
      "source": [
        "def plot_training_history(history):\n",
        "    # Plot training loss\n",
        "    plt.figure(figsize=(10, 5))\n",
        "    plt.subplot(1, 2, 1)\n",
        "    plt.plot(history.history['loss'], label='Training Loss')\n",
        "    plt.plot(history.history['val_loss'], label='Validation Loss')\n",
        "    plt.xlabel('Epochs')\n",
        "    plt.ylabel('Loss')\n",
        "    plt.legend()\n",
        "\n",
        "    # Plot training accuracy\n",
        "    plt.subplot(1, 2, 2)\n",
        "    plt.plot(history.history['accuracy'], label='Training Accuracy')\n",
        "    plt.plot(history.history['val_accuracy'], label='Validation Accuracy')\n",
        "    plt.xlabel('Epochs')\n",
        "    plt.ylabel('Accuracy')\n",
        "    plt.legend()\n",
        "\n",
        "    plt.show()\n",
        "\n",
        "#Plot training loss and accuracy\n",
        "plot_training_history(history)"
      ],
      "metadata": {
        "colab": {
          "base_uri": "https://localhost:8080/",
          "height": 465
        },
        "id": "47zS1H7E3RqP",
        "outputId": "c9d2da2c-299a-4f35-918b-eb717c0501fa"
      },
      "execution_count": 136,
      "outputs": [
        {
          "output_type": "display_data",
          "data": {
            "text/plain": [
              "<Figure size 1000x500 with 2 Axes>"
            ],
            "image/png": "[encoded data removed]"
          },
          "metadata": {}
        }
      ]
    },
    {
      "cell_type": "markdown",
      "source": [
        "**Evaluate the model on the test set**"
      ],
      "metadata": {
        "id": "_V-4Hs6h55-d"
      }
    },
    {
      "cell_type": "code",
      "source": [
        "val_loss, val_acc = model.evaluate(X_test, y_test)\n",
        "print(f\"\\nValidation Loss: {val_loss}, Validation Accuracy: {val_acc}\")"
      ],
      "metadata": {
        "colab": {
          "base_uri": "https://localhost:8080/"
        },
        "id": "oebpGdQX5vAi",
        "outputId": "09abde9e-25fc-4db7-914c-917bf3a2b25e"
      },
      "execution_count": 137,
      "outputs": [
        {
          "output_type": "stream",
          "name": "stdout",
          "text": [
            "3/3 [==============================] - 0s 5ms/step - loss: 0.4348 - accuracy: 0.9200\n",
            "\n",
            "Validation Loss: 0.43484172224998474, Validation Accuracy: 0.9200000166893005\n"
          ]
        }
      ]
    },
    {
      "cell_type": "markdown",
      "source": [
        "## **Make Predictions**"
      ],
      "metadata": {
        "id": "kQaVDWDe6G46"
      }
    },
    {
      "cell_type": "code",
      "source": [
        "#Make a prediction using the model\n",
        "sleep_disorder = model.predict([[6.1, 90, 2]])\n",
        "\n",
        "#Round the predicted probabilities\n",
        "rounded_sleep_disorder = np.round(sleep_disorder)\n",
        "\n",
        "#Find the predicted class by taking the index of the maximum probability\n",
        "predicted_class = int(rounded_sleep_disorder.argmax(axis=-1))\n",
        "\n",
        "#Print the prediction results\n",
        "print(\"Predicted Sleep Disorder: \", sleep_disorder)\n",
        "print(\"Predicted Sleep Disorder: \", rounded_sleep_disorder)\n",
        "print(\"Predicted Sleep Disorder: \", predicted_class)"
      ],
      "metadata": {
        "colab": {
          "base_uri": "https://localhost:8080/"
        },
        "id": "iRTV28Sd72sJ",
        "outputId": "9a6b5633-52b3-4247-a4b7-9c55b9b85acd"
      },
      "execution_count": 138,
      "outputs": [
        {
          "output_type": "stream",
          "name": "stdout",
          "text": [
            "1/1 [==============================] - 0s 70ms/step\n",
            "Predicted Sleep Disorder:  [[0.05208065 0.9376916  0.01022768]]\n",
            "Predicted Sleep Disorder:  [[0. 1. 0.]]\n",
            "Predicted Sleep Disorder:  1\n"
          ]
        }
      ]
    },
    {
      "cell_type": "markdown",
      "source": [
        "## **Save the Model**"
      ],
      "metadata": {
        "id": "TsHQWlrv9QP9"
      }
    },
    {
      "cell_type": "markdown",
      "source": [
        "**Json format**"
      ],
      "metadata": {
        "id": "0oZfLW0V90aM"
      }
    },
    {
      "cell_type": "code",
      "source": [
        "model_json = trained_model.to_json()\n",
        "with open(\"sleeplab.json\", \"w\") as json_file:\n",
        "    json_file.write(model_json)\n",
        "\n",
        "history_dict = history.history\n",
        "with open(\"training_history.json\", \"w\") as json_file:\n",
        "    json.dump(history_dict, json_file)"
      ],
      "metadata": {
        "id": "Ir6kGnEc3Bx2"
      },
      "execution_count": 139,
      "outputs": []
    },
    {
      "cell_type": "markdown",
      "source": [
        "**h5 format**"
      ],
      "metadata": {
        "id": "Ufz7s3oz95gR"
      }
    },
    {
      "cell_type": "code",
      "source": [
        "model.save(\"sleeplab.h5\")"
      ],
      "metadata": {
        "colab": {
          "base_uri": "https://localhost:8080/"
        },
        "id": "OANKf7C44g_m",
        "outputId": "2542d693-89af-4656-d7c5-3b723f56fe7a"
      },
      "execution_count": 140,
      "outputs": [
        {
          "output_type": "stream",
          "name": "stderr",
          "text": [
            "/usr/local/lib/python3.10/dist-packages/keras/src/engine/training.py:3079: UserWarning: You are saving your model as an HDF5 file via `model.save()`. This file format is considered legacy. We recommend using instead the native Keras format, e.g. `model.save('my_model.keras')`.\n",
            "  saving_api.save_model(\n"
          ]
        }
      ]
    }
  ],
  "metadata": {
    "colab": {
      "provenance": []
    },
    "kernelspec": {
      "display_name": "Python 3",
      "name": "python3"
    },
    "language_info": {
      "name": "python"
    }
  },
  "nbformat": 4,
  "nbformat_minor": 0
}